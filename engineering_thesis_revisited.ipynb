{
  "nbformat": 4,
  "nbformat_minor": 0,
  "metadata": {
    "colab": {
      "provenance": [],
      "authorship_tag": "ABX9TyPp1BtxzGmNY7reY6k4CIX7",
      "include_colab_link": true
    },
    "kernelspec": {
      "name": "python3",
      "display_name": "Python 3"
    },
    "language_info": {
      "name": "python"
    }
  },
  "cells": [
    {
      "cell_type": "markdown",
      "metadata": {
        "id": "view-in-github",
        "colab_type": "text"
      },
      "source": [
        "<a href=\"https://colab.research.google.com/github/The-Bambi/CV/blob/master/engineering_thesis_revisited.ipynb\" target=\"_parent\"><img src=\"https://colab.research.google.com/assets/colab-badge.svg\" alt=\"Open In Colab\"/></a>"
      ]
    },
    {
      "cell_type": "code",
      "execution_count": 1,
      "metadata": {
        "id": "aJnsFFIRyfwl"
      },
      "outputs": [],
      "source": [
        "import pandas as pd\n",
        "import numpy as np\n",
        "\n",
        "import matplotlib.pyplot as plt\n",
        "import matplotlib\n",
        "from mpl_toolkits.mplot3d import Axes3D"
      ]
    },
    {
      "cell_type": "code",
      "source": [
        "from google.colab import drive\n",
        "drive.mount('/content/gdrive')\n",
        "#Ścieżka do pliku"
      ],
      "metadata": {
        "colab": {
          "base_uri": "https://localhost:8080/"
        },
        "id": "F6r0mKiLyi-O",
        "outputId": "df377acf-92c6-43b5-8d84-07a9ca99c5d3"
      },
      "execution_count": 2,
      "outputs": [
        {
          "output_type": "stream",
          "name": "stdout",
          "text": [
            "Drive already mounted at /content/gdrive; to attempt to forcibly remount, call drive.mount(\"/content/gdrive\", force_remount=True).\n"
          ]
        }
      ]
    },
    {
      "cell_type": "code",
      "source": [
        "data = pd.read_csv('gdrive/My Drive/Colab Notebooks/data.csv', sep = ' ')"
      ],
      "metadata": {
        "id": "HG5ywk4CCL40"
      },
      "execution_count": 3,
      "outputs": []
    },
    {
      "cell_type": "code",
      "source": [
        "pd.set_option('display.float_format', lambda x: '%.3f' % x)\n",
        "data.describe()"
      ],
      "metadata": {
        "colab": {
          "base_uri": "https://localhost:8080/",
          "height": 300
        },
        "id": "lJh-lrV1ypd_",
        "outputId": "0b039157-c9a5-4243-e15c-cd7889259958"
      },
      "execution_count": 4,
      "outputs": [
        {
          "output_type": "execute_result",
          "data": {
            "text/plain": [
              "           EventID    TotCharge        EnDep      NPixels        NPads  \\\n",
              "count 13627668.000 13627668.000 13627668.000 13627668.000 13627668.000   \n",
              "mean     26468.184      786.998        0.000       24.031        4.693   \n",
              "std        104.227    14123.013        0.000      268.228        8.919   \n",
              "min      26289.000        5.773        0.000        2.000        1.000   \n",
              "25%      26377.000       79.205        0.000        4.000        2.000   \n",
              "50%      26468.000      222.194        0.000        8.000        3.000   \n",
              "75%      26561.000      377.357        0.000       12.000        4.000   \n",
              "max      26646.000  2160410.000        0.000    16232.000      192.000   \n",
              "\n",
              "            NTimeS            X            Y            Z       MaxADC  \\\n",
              "count 13627668.000 13627668.000 13627668.000 13627668.000 13627668.000   \n",
              "mean         4.936       -4.729       -1.036      258.454       73.459   \n",
              "std         13.141      156.144       26.084      380.388       67.873   \n",
              "min          2.000     -380.520      -64.322     -495.403        2.887   \n",
              "25%          2.000      -74.906      -18.904      -49.023       20.233   \n",
              "50%          3.000       11.882       -0.349      426.385       54.595   \n",
              "75%          4.000       66.235       16.912      576.281       96.667   \n",
              "max        250.000      380.571       50.647      728.435      450.185   \n",
              "\n",
              "       NumTracksAssigned  \n",
              "count       13627668.000  \n",
              "mean               0.417  \n",
              "std                0.493  \n",
              "min                0.000  \n",
              "25%                0.000  \n",
              "50%                0.000  \n",
              "75%                1.000  \n",
              "max                1.000  "
            ],
            "text/html": [
              "\n",
              "  <div id=\"df-fa12ca9e-6e8d-4ee2-9dfe-94d5020d4817\">\n",
              "    <div class=\"colab-df-container\">\n",
              "      <div>\n",
              "<style scoped>\n",
              "    .dataframe tbody tr th:only-of-type {\n",
              "        vertical-align: middle;\n",
              "    }\n",
              "\n",
              "    .dataframe tbody tr th {\n",
              "        vertical-align: top;\n",
              "    }\n",
              "\n",
              "    .dataframe thead th {\n",
              "        text-align: right;\n",
              "    }\n",
              "</style>\n",
              "<table border=\"1\" class=\"dataframe\">\n",
              "  <thead>\n",
              "    <tr style=\"text-align: right;\">\n",
              "      <th></th>\n",
              "      <th>EventID</th>\n",
              "      <th>TotCharge</th>\n",
              "      <th>EnDep</th>\n",
              "      <th>NPixels</th>\n",
              "      <th>NPads</th>\n",
              "      <th>NTimeS</th>\n",
              "      <th>X</th>\n",
              "      <th>Y</th>\n",
              "      <th>Z</th>\n",
              "      <th>MaxADC</th>\n",
              "      <th>NumTracksAssigned</th>\n",
              "    </tr>\n",
              "  </thead>\n",
              "  <tbody>\n",
              "    <tr>\n",
              "      <th>count</th>\n",
              "      <td>13627668.000</td>\n",
              "      <td>13627668.000</td>\n",
              "      <td>13627668.000</td>\n",
              "      <td>13627668.000</td>\n",
              "      <td>13627668.000</td>\n",
              "      <td>13627668.000</td>\n",
              "      <td>13627668.000</td>\n",
              "      <td>13627668.000</td>\n",
              "      <td>13627668.000</td>\n",
              "      <td>13627668.000</td>\n",
              "      <td>13627668.000</td>\n",
              "    </tr>\n",
              "    <tr>\n",
              "      <th>mean</th>\n",
              "      <td>26468.184</td>\n",
              "      <td>786.998</td>\n",
              "      <td>0.000</td>\n",
              "      <td>24.031</td>\n",
              "      <td>4.693</td>\n",
              "      <td>4.936</td>\n",
              "      <td>-4.729</td>\n",
              "      <td>-1.036</td>\n",
              "      <td>258.454</td>\n",
              "      <td>73.459</td>\n",
              "      <td>0.417</td>\n",
              "    </tr>\n",
              "    <tr>\n",
              "      <th>std</th>\n",
              "      <td>104.227</td>\n",
              "      <td>14123.013</td>\n",
              "      <td>0.000</td>\n",
              "      <td>268.228</td>\n",
              "      <td>8.919</td>\n",
              "      <td>13.141</td>\n",
              "      <td>156.144</td>\n",
              "      <td>26.084</td>\n",
              "      <td>380.388</td>\n",
              "      <td>67.873</td>\n",
              "      <td>0.493</td>\n",
              "    </tr>\n",
              "    <tr>\n",
              "      <th>min</th>\n",
              "      <td>26289.000</td>\n",
              "      <td>5.773</td>\n",
              "      <td>0.000</td>\n",
              "      <td>2.000</td>\n",
              "      <td>1.000</td>\n",
              "      <td>2.000</td>\n",
              "      <td>-380.520</td>\n",
              "      <td>-64.322</td>\n",
              "      <td>-495.403</td>\n",
              "      <td>2.887</td>\n",
              "      <td>0.000</td>\n",
              "    </tr>\n",
              "    <tr>\n",
              "      <th>25%</th>\n",
              "      <td>26377.000</td>\n",
              "      <td>79.205</td>\n",
              "      <td>0.000</td>\n",
              "      <td>4.000</td>\n",
              "      <td>2.000</td>\n",
              "      <td>2.000</td>\n",
              "      <td>-74.906</td>\n",
              "      <td>-18.904</td>\n",
              "      <td>-49.023</td>\n",
              "      <td>20.233</td>\n",
              "      <td>0.000</td>\n",
              "    </tr>\n",
              "    <tr>\n",
              "      <th>50%</th>\n",
              "      <td>26468.000</td>\n",
              "      <td>222.194</td>\n",
              "      <td>0.000</td>\n",
              "      <td>8.000</td>\n",
              "      <td>3.000</td>\n",
              "      <td>3.000</td>\n",
              "      <td>11.882</td>\n",
              "      <td>-0.349</td>\n",
              "      <td>426.385</td>\n",
              "      <td>54.595</td>\n",
              "      <td>0.000</td>\n",
              "    </tr>\n",
              "    <tr>\n",
              "      <th>75%</th>\n",
              "      <td>26561.000</td>\n",
              "      <td>377.357</td>\n",
              "      <td>0.000</td>\n",
              "      <td>12.000</td>\n",
              "      <td>4.000</td>\n",
              "      <td>4.000</td>\n",
              "      <td>66.235</td>\n",
              "      <td>16.912</td>\n",
              "      <td>576.281</td>\n",
              "      <td>96.667</td>\n",
              "      <td>1.000</td>\n",
              "    </tr>\n",
              "    <tr>\n",
              "      <th>max</th>\n",
              "      <td>26646.000</td>\n",
              "      <td>2160410.000</td>\n",
              "      <td>0.000</td>\n",
              "      <td>16232.000</td>\n",
              "      <td>192.000</td>\n",
              "      <td>250.000</td>\n",
              "      <td>380.571</td>\n",
              "      <td>50.647</td>\n",
              "      <td>728.435</td>\n",
              "      <td>450.185</td>\n",
              "      <td>1.000</td>\n",
              "    </tr>\n",
              "  </tbody>\n",
              "</table>\n",
              "</div>\n",
              "      <button class=\"colab-df-convert\" onclick=\"convertToInteractive('df-fa12ca9e-6e8d-4ee2-9dfe-94d5020d4817')\"\n",
              "              title=\"Convert this dataframe to an interactive table.\"\n",
              "              style=\"display:none;\">\n",
              "        \n",
              "  <svg xmlns=\"http://www.w3.org/2000/svg\" height=\"24px\"viewBox=\"0 0 24 24\"\n",
              "       width=\"24px\">\n",
              "    <path d=\"M0 0h24v24H0V0z\" fill=\"none\"/>\n",
              "    <path d=\"M18.56 5.44l.94 2.06.94-2.06 2.06-.94-2.06-.94-.94-2.06-.94 2.06-2.06.94zm-11 1L8.5 8.5l.94-2.06 2.06-.94-2.06-.94L8.5 2.5l-.94 2.06-2.06.94zm10 10l.94 2.06.94-2.06 2.06-.94-2.06-.94-.94-2.06-.94 2.06-2.06.94z\"/><path d=\"M17.41 7.96l-1.37-1.37c-.4-.4-.92-.59-1.43-.59-.52 0-1.04.2-1.43.59L10.3 9.45l-7.72 7.72c-.78.78-.78 2.05 0 2.83L4 21.41c.39.39.9.59 1.41.59.51 0 1.02-.2 1.41-.59l7.78-7.78 2.81-2.81c.8-.78.8-2.07 0-2.86zM5.41 20L4 18.59l7.72-7.72 1.47 1.35L5.41 20z\"/>\n",
              "  </svg>\n",
              "      </button>\n",
              "      \n",
              "  <style>\n",
              "    .colab-df-container {\n",
              "      display:flex;\n",
              "      flex-wrap:wrap;\n",
              "      gap: 12px;\n",
              "    }\n",
              "\n",
              "    .colab-df-convert {\n",
              "      background-color: #E8F0FE;\n",
              "      border: none;\n",
              "      border-radius: 50%;\n",
              "      cursor: pointer;\n",
              "      display: none;\n",
              "      fill: #1967D2;\n",
              "      height: 32px;\n",
              "      padding: 0 0 0 0;\n",
              "      width: 32px;\n",
              "    }\n",
              "\n",
              "    .colab-df-convert:hover {\n",
              "      background-color: #E2EBFA;\n",
              "      box-shadow: 0px 1px 2px rgba(60, 64, 67, 0.3), 0px 1px 3px 1px rgba(60, 64, 67, 0.15);\n",
              "      fill: #174EA6;\n",
              "    }\n",
              "\n",
              "    [theme=dark] .colab-df-convert {\n",
              "      background-color: #3B4455;\n",
              "      fill: #D2E3FC;\n",
              "    }\n",
              "\n",
              "    [theme=dark] .colab-df-convert:hover {\n",
              "      background-color: #434B5C;\n",
              "      box-shadow: 0px 1px 3px 1px rgba(0, 0, 0, 0.15);\n",
              "      filter: drop-shadow(0px 1px 2px rgba(0, 0, 0, 0.3));\n",
              "      fill: #FFFFFF;\n",
              "    }\n",
              "  </style>\n",
              "\n",
              "      <script>\n",
              "        const buttonEl =\n",
              "          document.querySelector('#df-fa12ca9e-6e8d-4ee2-9dfe-94d5020d4817 button.colab-df-convert');\n",
              "        buttonEl.style.display =\n",
              "          google.colab.kernel.accessAllowed ? 'block' : 'none';\n",
              "\n",
              "        async function convertToInteractive(key) {\n",
              "          const element = document.querySelector('#df-fa12ca9e-6e8d-4ee2-9dfe-94d5020d4817');\n",
              "          const dataTable =\n",
              "            await google.colab.kernel.invokeFunction('convertToInteractive',\n",
              "                                                     [key], {});\n",
              "          if (!dataTable) return;\n",
              "\n",
              "          const docLinkHtml = 'Like what you see? Visit the ' +\n",
              "            '<a target=\"_blank\" href=https://colab.research.google.com/notebooks/data_table.ipynb>data table notebook</a>'\n",
              "            + ' to learn more about interactive tables.';\n",
              "          element.innerHTML = '';\n",
              "          dataTable['output_type'] = 'display_data';\n",
              "          await google.colab.output.renderOutput(dataTable, element);\n",
              "          const docLink = document.createElement('div');\n",
              "          docLink.innerHTML = docLinkHtml;\n",
              "          element.appendChild(docLink);\n",
              "        }\n",
              "      </script>\n",
              "    </div>\n",
              "  </div>\n",
              "  "
            ]
          },
          "metadata": {},
          "execution_count": 4
        }
      ]
    },
    {
      "cell_type": "code",
      "source": [
        "data = data.drop(columns=['EnDep'])"
      ],
      "metadata": {
        "id": "0x-V4tOf0nnB"
      },
      "execution_count": 5,
      "outputs": []
    },
    {
      "cell_type": "code",
      "source": [
        "round(data['NumTracksAssigned'].loc[data['NumTracksAssigned']==1].count()/data.shape[0], 3)"
      ],
      "metadata": {
        "colab": {
          "base_uri": "https://localhost:8080/"
        },
        "id": "V4Q4Xi80y00l",
        "outputId": "38a909b4-7e84-4e84-a58e-e29384099be9"
      },
      "execution_count": 6,
      "outputs": [
        {
          "output_type": "execute_result",
          "data": {
            "text/plain": [
              "0.417"
            ]
          },
          "metadata": {},
          "execution_count": 6
        }
      ]
    },
    {
      "cell_type": "markdown",
      "source": [
        "41% of the data is 1, 59% is 0."
      ],
      "metadata": {
        "id": "DVpQ8M_f0UcM"
      }
    },
    {
      "cell_type": "code",
      "source": [
        "data.drop(columns=['EventID']).corr()"
      ],
      "metadata": {
        "colab": {
          "base_uri": "https://localhost:8080/",
          "height": 332
        },
        "id": "Oik5iqRw0QD1",
        "outputId": "78746bbd-29c3-4446-c96d-fc38da138f96"
      },
      "execution_count": 7,
      "outputs": [
        {
          "output_type": "execute_result",
          "data": {
            "text/plain": [
              "                   TotCharge  NPixels  NPads  NTimeS      X      Y      Z  \\\n",
              "TotCharge              1.000    0.443  0.134   0.421 -0.002 -0.004  0.001   \n",
              "NPixels                0.443    1.000  0.237   0.775 -0.007 -0.002  0.016   \n",
              "NPads                  0.134    0.237  1.000   0.202 -0.016  0.114 -0.067   \n",
              "NTimeS                 0.421    0.775  0.202   1.000 -0.019 -0.029  0.026   \n",
              "X                     -0.002   -0.007 -0.016  -0.019  1.000  0.008 -0.047   \n",
              "Y                     -0.004   -0.002  0.114  -0.029  0.008  1.000  0.053   \n",
              "Z                      0.001    0.016 -0.067   0.026 -0.047  0.053  1.000   \n",
              "MaxADC                 0.089    0.054  0.084   0.124  0.026  0.046 -0.089   \n",
              "NumTracksAssigned     -0.027   -0.046 -0.096  -0.105  0.056  0.029 -0.117   \n",
              "\n",
              "                   MaxADC  NumTracksAssigned  \n",
              "TotCharge           0.089             -0.027  \n",
              "NPixels             0.054             -0.046  \n",
              "NPads               0.084             -0.096  \n",
              "NTimeS              0.124             -0.105  \n",
              "X                   0.026              0.056  \n",
              "Y                   0.046              0.029  \n",
              "Z                  -0.089             -0.117  \n",
              "MaxADC              1.000              0.184  \n",
              "NumTracksAssigned   0.184              1.000  "
            ],
            "text/html": [
              "\n",
              "  <div id=\"df-811f2786-b1c0-42da-a012-631ab858d138\">\n",
              "    <div class=\"colab-df-container\">\n",
              "      <div>\n",
              "<style scoped>\n",
              "    .dataframe tbody tr th:only-of-type {\n",
              "        vertical-align: middle;\n",
              "    }\n",
              "\n",
              "    .dataframe tbody tr th {\n",
              "        vertical-align: top;\n",
              "    }\n",
              "\n",
              "    .dataframe thead th {\n",
              "        text-align: right;\n",
              "    }\n",
              "</style>\n",
              "<table border=\"1\" class=\"dataframe\">\n",
              "  <thead>\n",
              "    <tr style=\"text-align: right;\">\n",
              "      <th></th>\n",
              "      <th>TotCharge</th>\n",
              "      <th>NPixels</th>\n",
              "      <th>NPads</th>\n",
              "      <th>NTimeS</th>\n",
              "      <th>X</th>\n",
              "      <th>Y</th>\n",
              "      <th>Z</th>\n",
              "      <th>MaxADC</th>\n",
              "      <th>NumTracksAssigned</th>\n",
              "    </tr>\n",
              "  </thead>\n",
              "  <tbody>\n",
              "    <tr>\n",
              "      <th>TotCharge</th>\n",
              "      <td>1.000</td>\n",
              "      <td>0.443</td>\n",
              "      <td>0.134</td>\n",
              "      <td>0.421</td>\n",
              "      <td>-0.002</td>\n",
              "      <td>-0.004</td>\n",
              "      <td>0.001</td>\n",
              "      <td>0.089</td>\n",
              "      <td>-0.027</td>\n",
              "    </tr>\n",
              "    <tr>\n",
              "      <th>NPixels</th>\n",
              "      <td>0.443</td>\n",
              "      <td>1.000</td>\n",
              "      <td>0.237</td>\n",
              "      <td>0.775</td>\n",
              "      <td>-0.007</td>\n",
              "      <td>-0.002</td>\n",
              "      <td>0.016</td>\n",
              "      <td>0.054</td>\n",
              "      <td>-0.046</td>\n",
              "    </tr>\n",
              "    <tr>\n",
              "      <th>NPads</th>\n",
              "      <td>0.134</td>\n",
              "      <td>0.237</td>\n",
              "      <td>1.000</td>\n",
              "      <td>0.202</td>\n",
              "      <td>-0.016</td>\n",
              "      <td>0.114</td>\n",
              "      <td>-0.067</td>\n",
              "      <td>0.084</td>\n",
              "      <td>-0.096</td>\n",
              "    </tr>\n",
              "    <tr>\n",
              "      <th>NTimeS</th>\n",
              "      <td>0.421</td>\n",
              "      <td>0.775</td>\n",
              "      <td>0.202</td>\n",
              "      <td>1.000</td>\n",
              "      <td>-0.019</td>\n",
              "      <td>-0.029</td>\n",
              "      <td>0.026</td>\n",
              "      <td>0.124</td>\n",
              "      <td>-0.105</td>\n",
              "    </tr>\n",
              "    <tr>\n",
              "      <th>X</th>\n",
              "      <td>-0.002</td>\n",
              "      <td>-0.007</td>\n",
              "      <td>-0.016</td>\n",
              "      <td>-0.019</td>\n",
              "      <td>1.000</td>\n",
              "      <td>0.008</td>\n",
              "      <td>-0.047</td>\n",
              "      <td>0.026</td>\n",
              "      <td>0.056</td>\n",
              "    </tr>\n",
              "    <tr>\n",
              "      <th>Y</th>\n",
              "      <td>-0.004</td>\n",
              "      <td>-0.002</td>\n",
              "      <td>0.114</td>\n",
              "      <td>-0.029</td>\n",
              "      <td>0.008</td>\n",
              "      <td>1.000</td>\n",
              "      <td>0.053</td>\n",
              "      <td>0.046</td>\n",
              "      <td>0.029</td>\n",
              "    </tr>\n",
              "    <tr>\n",
              "      <th>Z</th>\n",
              "      <td>0.001</td>\n",
              "      <td>0.016</td>\n",
              "      <td>-0.067</td>\n",
              "      <td>0.026</td>\n",
              "      <td>-0.047</td>\n",
              "      <td>0.053</td>\n",
              "      <td>1.000</td>\n",
              "      <td>-0.089</td>\n",
              "      <td>-0.117</td>\n",
              "    </tr>\n",
              "    <tr>\n",
              "      <th>MaxADC</th>\n",
              "      <td>0.089</td>\n",
              "      <td>0.054</td>\n",
              "      <td>0.084</td>\n",
              "      <td>0.124</td>\n",
              "      <td>0.026</td>\n",
              "      <td>0.046</td>\n",
              "      <td>-0.089</td>\n",
              "      <td>1.000</td>\n",
              "      <td>0.184</td>\n",
              "    </tr>\n",
              "    <tr>\n",
              "      <th>NumTracksAssigned</th>\n",
              "      <td>-0.027</td>\n",
              "      <td>-0.046</td>\n",
              "      <td>-0.096</td>\n",
              "      <td>-0.105</td>\n",
              "      <td>0.056</td>\n",
              "      <td>0.029</td>\n",
              "      <td>-0.117</td>\n",
              "      <td>0.184</td>\n",
              "      <td>1.000</td>\n",
              "    </tr>\n",
              "  </tbody>\n",
              "</table>\n",
              "</div>\n",
              "      <button class=\"colab-df-convert\" onclick=\"convertToInteractive('df-811f2786-b1c0-42da-a012-631ab858d138')\"\n",
              "              title=\"Convert this dataframe to an interactive table.\"\n",
              "              style=\"display:none;\">\n",
              "        \n",
              "  <svg xmlns=\"http://www.w3.org/2000/svg\" height=\"24px\"viewBox=\"0 0 24 24\"\n",
              "       width=\"24px\">\n",
              "    <path d=\"M0 0h24v24H0V0z\" fill=\"none\"/>\n",
              "    <path d=\"M18.56 5.44l.94 2.06.94-2.06 2.06-.94-2.06-.94-.94-2.06-.94 2.06-2.06.94zm-11 1L8.5 8.5l.94-2.06 2.06-.94-2.06-.94L8.5 2.5l-.94 2.06-2.06.94zm10 10l.94 2.06.94-2.06 2.06-.94-2.06-.94-.94-2.06-.94 2.06-2.06.94z\"/><path d=\"M17.41 7.96l-1.37-1.37c-.4-.4-.92-.59-1.43-.59-.52 0-1.04.2-1.43.59L10.3 9.45l-7.72 7.72c-.78.78-.78 2.05 0 2.83L4 21.41c.39.39.9.59 1.41.59.51 0 1.02-.2 1.41-.59l7.78-7.78 2.81-2.81c.8-.78.8-2.07 0-2.86zM5.41 20L4 18.59l7.72-7.72 1.47 1.35L5.41 20z\"/>\n",
              "  </svg>\n",
              "      </button>\n",
              "      \n",
              "  <style>\n",
              "    .colab-df-container {\n",
              "      display:flex;\n",
              "      flex-wrap:wrap;\n",
              "      gap: 12px;\n",
              "    }\n",
              "\n",
              "    .colab-df-convert {\n",
              "      background-color: #E8F0FE;\n",
              "      border: none;\n",
              "      border-radius: 50%;\n",
              "      cursor: pointer;\n",
              "      display: none;\n",
              "      fill: #1967D2;\n",
              "      height: 32px;\n",
              "      padding: 0 0 0 0;\n",
              "      width: 32px;\n",
              "    }\n",
              "\n",
              "    .colab-df-convert:hover {\n",
              "      background-color: #E2EBFA;\n",
              "      box-shadow: 0px 1px 2px rgba(60, 64, 67, 0.3), 0px 1px 3px 1px rgba(60, 64, 67, 0.15);\n",
              "      fill: #174EA6;\n",
              "    }\n",
              "\n",
              "    [theme=dark] .colab-df-convert {\n",
              "      background-color: #3B4455;\n",
              "      fill: #D2E3FC;\n",
              "    }\n",
              "\n",
              "    [theme=dark] .colab-df-convert:hover {\n",
              "      background-color: #434B5C;\n",
              "      box-shadow: 0px 1px 3px 1px rgba(0, 0, 0, 0.15);\n",
              "      filter: drop-shadow(0px 1px 2px rgba(0, 0, 0, 0.3));\n",
              "      fill: #FFFFFF;\n",
              "    }\n",
              "  </style>\n",
              "\n",
              "      <script>\n",
              "        const buttonEl =\n",
              "          document.querySelector('#df-811f2786-b1c0-42da-a012-631ab858d138 button.colab-df-convert');\n",
              "        buttonEl.style.display =\n",
              "          google.colab.kernel.accessAllowed ? 'block' : 'none';\n",
              "\n",
              "        async function convertToInteractive(key) {\n",
              "          const element = document.querySelector('#df-811f2786-b1c0-42da-a012-631ab858d138');\n",
              "          const dataTable =\n",
              "            await google.colab.kernel.invokeFunction('convertToInteractive',\n",
              "                                                     [key], {});\n",
              "          if (!dataTable) return;\n",
              "\n",
              "          const docLinkHtml = 'Like what you see? Visit the ' +\n",
              "            '<a target=\"_blank\" href=https://colab.research.google.com/notebooks/data_table.ipynb>data table notebook</a>'\n",
              "            + ' to learn more about interactive tables.';\n",
              "          element.innerHTML = '';\n",
              "          dataTable['output_type'] = 'display_data';\n",
              "          await google.colab.output.renderOutput(dataTable, element);\n",
              "          const docLink = document.createElement('div');\n",
              "          docLink.innerHTML = docLinkHtml;\n",
              "          element.appendChild(docLink);\n",
              "        }\n",
              "      </script>\n",
              "    </div>\n",
              "  </div>\n",
              "  "
            ]
          },
          "metadata": {},
          "execution_count": 7
        }
      ]
    },
    {
      "cell_type": "code",
      "source": [
        "X, y = data[['TotCharge', 'NPixels', 'NPads', 'NTimeS', 'X', 'Y', 'Z', 'MaxADC']], data['NumTracksAssigned']"
      ],
      "metadata": {
        "id": "jZOTNXCj1I59"
      },
      "execution_count": 8,
      "outputs": []
    },
    {
      "cell_type": "code",
      "source": [
        "from sklearn.feature_selection import mutual_info_classif"
      ],
      "metadata": {
        "id": "c4vi3v-AzXiu"
      },
      "execution_count": 9,
      "outputs": []
    },
    {
      "cell_type": "code",
      "source": [
        "def make_mi_scores(X, y):\n",
        "    mi_scores = mutual_info_classif(X, y, discrete_features=False)\n",
        "    mi_scores = pd.Series(mi_scores, name=\"MI Scores\", index=X.columns)\n",
        "    mi_scores = mi_scores.sort_values(ascending=False)\n",
        "    return mi_scores"
      ],
      "metadata": {
        "id": "KEciEd191EdA"
      },
      "execution_count": 10,
      "outputs": []
    },
    {
      "cell_type": "code",
      "source": [
        "# make_mi_scores(X, y)\n",
        "# dont run this coz it takes 20 minutes. Results below."
      ],
      "metadata": {
        "id": "7xgr6Jux1qce"
      },
      "execution_count": 11,
      "outputs": []
    },
    {
      "cell_type": "code",
      "source": [
        "long_to_calculate_data = {\n",
        "  'NPads':0.384,\n",
        "  'NTimeS':0.338,\n",
        "  'MaxADC':0.300,\n",
        "  'NPixels':0.252,\n",
        "  'TotCharge':0.214,\n",
        "  'Z':0.173,\n",
        "  'X':0.125,\n",
        "  'Y':0.071\n",
        "}"
      ],
      "metadata": {
        "id": "dDSv2b3u1ufX"
      },
      "execution_count": 12,
      "outputs": []
    },
    {
      "cell_type": "code",
      "source": [
        "X.describe()"
      ],
      "metadata": {
        "colab": {
          "base_uri": "https://localhost:8080/",
          "height": 300
        },
        "id": "N90IJe9uBdsw",
        "outputId": "137b90a8-4066-4a9f-e0fa-165ebef90831"
      },
      "execution_count": 13,
      "outputs": [
        {
          "output_type": "execute_result",
          "data": {
            "text/plain": [
              "         TotCharge      NPixels        NPads       NTimeS            X  \\\n",
              "count 13627668.000 13627668.000 13627668.000 13627668.000 13627668.000   \n",
              "mean       786.998       24.031        4.693        4.936       -4.729   \n",
              "std      14123.013      268.228        8.919       13.141      156.144   \n",
              "min          5.773        2.000        1.000        2.000     -380.520   \n",
              "25%         79.205        4.000        2.000        2.000      -74.906   \n",
              "50%        222.194        8.000        3.000        3.000       11.882   \n",
              "75%        377.357       12.000        4.000        4.000       66.235   \n",
              "max    2160410.000    16232.000      192.000      250.000      380.571   \n",
              "\n",
              "                 Y            Z       MaxADC  \n",
              "count 13627668.000 13627668.000 13627668.000  \n",
              "mean        -1.036      258.454       73.459  \n",
              "std         26.084      380.388       67.873  \n",
              "min        -64.322     -495.403        2.887  \n",
              "25%        -18.904      -49.023       20.233  \n",
              "50%         -0.349      426.385       54.595  \n",
              "75%         16.912      576.281       96.667  \n",
              "max         50.647      728.435      450.185  "
            ],
            "text/html": [
              "\n",
              "  <div id=\"df-a45bc58a-be29-4caa-ad15-2dd49ff227d7\">\n",
              "    <div class=\"colab-df-container\">\n",
              "      <div>\n",
              "<style scoped>\n",
              "    .dataframe tbody tr th:only-of-type {\n",
              "        vertical-align: middle;\n",
              "    }\n",
              "\n",
              "    .dataframe tbody tr th {\n",
              "        vertical-align: top;\n",
              "    }\n",
              "\n",
              "    .dataframe thead th {\n",
              "        text-align: right;\n",
              "    }\n",
              "</style>\n",
              "<table border=\"1\" class=\"dataframe\">\n",
              "  <thead>\n",
              "    <tr style=\"text-align: right;\">\n",
              "      <th></th>\n",
              "      <th>TotCharge</th>\n",
              "      <th>NPixels</th>\n",
              "      <th>NPads</th>\n",
              "      <th>NTimeS</th>\n",
              "      <th>X</th>\n",
              "      <th>Y</th>\n",
              "      <th>Z</th>\n",
              "      <th>MaxADC</th>\n",
              "    </tr>\n",
              "  </thead>\n",
              "  <tbody>\n",
              "    <tr>\n",
              "      <th>count</th>\n",
              "      <td>13627668.000</td>\n",
              "      <td>13627668.000</td>\n",
              "      <td>13627668.000</td>\n",
              "      <td>13627668.000</td>\n",
              "      <td>13627668.000</td>\n",
              "      <td>13627668.000</td>\n",
              "      <td>13627668.000</td>\n",
              "      <td>13627668.000</td>\n",
              "    </tr>\n",
              "    <tr>\n",
              "      <th>mean</th>\n",
              "      <td>786.998</td>\n",
              "      <td>24.031</td>\n",
              "      <td>4.693</td>\n",
              "      <td>4.936</td>\n",
              "      <td>-4.729</td>\n",
              "      <td>-1.036</td>\n",
              "      <td>258.454</td>\n",
              "      <td>73.459</td>\n",
              "    </tr>\n",
              "    <tr>\n",
              "      <th>std</th>\n",
              "      <td>14123.013</td>\n",
              "      <td>268.228</td>\n",
              "      <td>8.919</td>\n",
              "      <td>13.141</td>\n",
              "      <td>156.144</td>\n",
              "      <td>26.084</td>\n",
              "      <td>380.388</td>\n",
              "      <td>67.873</td>\n",
              "    </tr>\n",
              "    <tr>\n",
              "      <th>min</th>\n",
              "      <td>5.773</td>\n",
              "      <td>2.000</td>\n",
              "      <td>1.000</td>\n",
              "      <td>2.000</td>\n",
              "      <td>-380.520</td>\n",
              "      <td>-64.322</td>\n",
              "      <td>-495.403</td>\n",
              "      <td>2.887</td>\n",
              "    </tr>\n",
              "    <tr>\n",
              "      <th>25%</th>\n",
              "      <td>79.205</td>\n",
              "      <td>4.000</td>\n",
              "      <td>2.000</td>\n",
              "      <td>2.000</td>\n",
              "      <td>-74.906</td>\n",
              "      <td>-18.904</td>\n",
              "      <td>-49.023</td>\n",
              "      <td>20.233</td>\n",
              "    </tr>\n",
              "    <tr>\n",
              "      <th>50%</th>\n",
              "      <td>222.194</td>\n",
              "      <td>8.000</td>\n",
              "      <td>3.000</td>\n",
              "      <td>3.000</td>\n",
              "      <td>11.882</td>\n",
              "      <td>-0.349</td>\n",
              "      <td>426.385</td>\n",
              "      <td>54.595</td>\n",
              "    </tr>\n",
              "    <tr>\n",
              "      <th>75%</th>\n",
              "      <td>377.357</td>\n",
              "      <td>12.000</td>\n",
              "      <td>4.000</td>\n",
              "      <td>4.000</td>\n",
              "      <td>66.235</td>\n",
              "      <td>16.912</td>\n",
              "      <td>576.281</td>\n",
              "      <td>96.667</td>\n",
              "    </tr>\n",
              "    <tr>\n",
              "      <th>max</th>\n",
              "      <td>2160410.000</td>\n",
              "      <td>16232.000</td>\n",
              "      <td>192.000</td>\n",
              "      <td>250.000</td>\n",
              "      <td>380.571</td>\n",
              "      <td>50.647</td>\n",
              "      <td>728.435</td>\n",
              "      <td>450.185</td>\n",
              "    </tr>\n",
              "  </tbody>\n",
              "</table>\n",
              "</div>\n",
              "      <button class=\"colab-df-convert\" onclick=\"convertToInteractive('df-a45bc58a-be29-4caa-ad15-2dd49ff227d7')\"\n",
              "              title=\"Convert this dataframe to an interactive table.\"\n",
              "              style=\"display:none;\">\n",
              "        \n",
              "  <svg xmlns=\"http://www.w3.org/2000/svg\" height=\"24px\"viewBox=\"0 0 24 24\"\n",
              "       width=\"24px\">\n",
              "    <path d=\"M0 0h24v24H0V0z\" fill=\"none\"/>\n",
              "    <path d=\"M18.56 5.44l.94 2.06.94-2.06 2.06-.94-2.06-.94-.94-2.06-.94 2.06-2.06.94zm-11 1L8.5 8.5l.94-2.06 2.06-.94-2.06-.94L8.5 2.5l-.94 2.06-2.06.94zm10 10l.94 2.06.94-2.06 2.06-.94-2.06-.94-.94-2.06-.94 2.06-2.06.94z\"/><path d=\"M17.41 7.96l-1.37-1.37c-.4-.4-.92-.59-1.43-.59-.52 0-1.04.2-1.43.59L10.3 9.45l-7.72 7.72c-.78.78-.78 2.05 0 2.83L4 21.41c.39.39.9.59 1.41.59.51 0 1.02-.2 1.41-.59l7.78-7.78 2.81-2.81c.8-.78.8-2.07 0-2.86zM5.41 20L4 18.59l7.72-7.72 1.47 1.35L5.41 20z\"/>\n",
              "  </svg>\n",
              "      </button>\n",
              "      \n",
              "  <style>\n",
              "    .colab-df-container {\n",
              "      display:flex;\n",
              "      flex-wrap:wrap;\n",
              "      gap: 12px;\n",
              "    }\n",
              "\n",
              "    .colab-df-convert {\n",
              "      background-color: #E8F0FE;\n",
              "      border: none;\n",
              "      border-radius: 50%;\n",
              "      cursor: pointer;\n",
              "      display: none;\n",
              "      fill: #1967D2;\n",
              "      height: 32px;\n",
              "      padding: 0 0 0 0;\n",
              "      width: 32px;\n",
              "    }\n",
              "\n",
              "    .colab-df-convert:hover {\n",
              "      background-color: #E2EBFA;\n",
              "      box-shadow: 0px 1px 2px rgba(60, 64, 67, 0.3), 0px 1px 3px 1px rgba(60, 64, 67, 0.15);\n",
              "      fill: #174EA6;\n",
              "    }\n",
              "\n",
              "    [theme=dark] .colab-df-convert {\n",
              "      background-color: #3B4455;\n",
              "      fill: #D2E3FC;\n",
              "    }\n",
              "\n",
              "    [theme=dark] .colab-df-convert:hover {\n",
              "      background-color: #434B5C;\n",
              "      box-shadow: 0px 1px 3px 1px rgba(0, 0, 0, 0.15);\n",
              "      filter: drop-shadow(0px 1px 2px rgba(0, 0, 0, 0.3));\n",
              "      fill: #FFFFFF;\n",
              "    }\n",
              "  </style>\n",
              "\n",
              "      <script>\n",
              "        const buttonEl =\n",
              "          document.querySelector('#df-a45bc58a-be29-4caa-ad15-2dd49ff227d7 button.colab-df-convert');\n",
              "        buttonEl.style.display =\n",
              "          google.colab.kernel.accessAllowed ? 'block' : 'none';\n",
              "\n",
              "        async function convertToInteractive(key) {\n",
              "          const element = document.querySelector('#df-a45bc58a-be29-4caa-ad15-2dd49ff227d7');\n",
              "          const dataTable =\n",
              "            await google.colab.kernel.invokeFunction('convertToInteractive',\n",
              "                                                     [key], {});\n",
              "          if (!dataTable) return;\n",
              "\n",
              "          const docLinkHtml = 'Like what you see? Visit the ' +\n",
              "            '<a target=\"_blank\" href=https://colab.research.google.com/notebooks/data_table.ipynb>data table notebook</a>'\n",
              "            + ' to learn more about interactive tables.';\n",
              "          element.innerHTML = '';\n",
              "          dataTable['output_type'] = 'display_data';\n",
              "          await google.colab.output.renderOutput(dataTable, element);\n",
              "          const docLink = document.createElement('div');\n",
              "          docLink.innerHTML = docLinkHtml;\n",
              "          element.appendChild(docLink);\n",
              "        }\n",
              "      </script>\n",
              "    </div>\n",
              "  </div>\n",
              "  "
            ]
          },
          "metadata": {},
          "execution_count": 13
        }
      ]
    },
    {
      "cell_type": "code",
      "source": [
        "plt.hist(X['NPads'])\n",
        "plt.xscale('log')\n",
        "plt.yscale('log')"
      ],
      "metadata": {
        "colab": {
          "base_uri": "https://localhost:8080/",
          "height": 269
        },
        "id": "9YJBcJVuEEPx",
        "outputId": "fe390ce0-c1e8-4c54-c46d-a80fd922db75"
      },
      "execution_count": 17,
      "outputs": [
        {
          "output_type": "display_data",
          "data": {
            "text/plain": [
              "<Figure size 432x288 with 1 Axes>"
            ],
            "image/png": "[encoded data removed]"
          },
          "metadata": {
            "needs_background": "light"
          }
        }
      ]
    },
    {
      "cell_type": "code",
      "source": [
        "from sklearn.compose import ColumnTransformer\n",
        "from sklearn.pipeline import Pipeline\n",
        "from sklearn.preprocessing import Normalizer"
      ],
      "metadata": {
        "id": "CK8NsIDbBhcU"
      },
      "execution_count": 19,
      "outputs": []
    },
    {
      "cell_type": "code",
      "source": [
        "preprocessor = ColumnTransformer(\n",
        "    transformers=[(\"norm\", Normalizer(), X.drop(columns=['NPads','NTimeS']).columns)]\n",
        ")"
      ],
      "metadata": {
        "id": "i_rAVpFJJJOg"
      },
      "execution_count": 20,
      "outputs": []
    },
    {
      "cell_type": "code",
      "source": [
        "from sklearn.model_selection import train_test_split\n",
        "\n",
        "X_train, X_valid, y_train, y_valid = train_test_split(X, y, test_size=0.2)\n",
        "X_valid1, X_valid2, y_valid1, y_valid2 = train_test_split(X_valid, y_valid, test_size=0.5)"
      ],
      "metadata": {
        "id": "oGALvdgcKi5W"
      },
      "execution_count": 24,
      "outputs": []
    },
    {
      "cell_type": "code",
      "source": [
        "from xgboost import XGBRegressor, XGBClassifier"
      ],
      "metadata": {
        "id": "DbeQN670K3au"
      },
      "execution_count": 25,
      "outputs": []
    },
    {
      "cell_type": "code",
      "source": [
        "X_train = preprocessor.fit_transform(X_train)"
      ],
      "metadata": {
        "id": "BCM2gNOAxWcO"
      },
      "execution_count": 26,
      "outputs": []
    },
    {
      "cell_type": "code",
      "source": [
        "X_valid1 = preprocessor.transform(X_valid1)\n",
        "X_valid2 = preprocessor.transform(X_valid2)"
      ],
      "metadata": {
        "id": "qES4fDQwxs9L"
      },
      "execution_count": 27,
      "outputs": []
    },
    {
      "cell_type": "code",
      "source": [
        "my_model = XGBClassifier(n_estimators=20)"
      ],
      "metadata": {
        "id": "BRAyTPBOZ_yP"
      },
      "execution_count": 28,
      "outputs": []
    },
    {
      "cell_type": "code",
      "source": [
        "my_model.fit(X_train, y_train,\n",
        "             eval_set=[(X_valid1, y_valid1), (X_valid2, y_valid2)],\n",
        "            early_stopping_rounds=3,\n",
        ")"
      ],
      "metadata": {
        "colab": {
          "base_uri": "https://localhost:8080/"
        },
        "id": "4EibJDHBaBrW",
        "outputId": "5456c78f-fca9-4330-bb3e-730cd9f5ef07"
      },
      "execution_count": 29,
      "outputs": [
        {
          "output_type": "stream",
          "name": "stdout",
          "text": [
            "[09:19:04] WARNING: /workspace/src/learner.cc:686: Tree method is automatically selected to be 'approx' for faster speed. To use old behavior (exact greedy algorithm on single machine), set tree_method to 'exact'.\n",
            "[0]\tvalidation_0-error:0.193684\tvalidation_1-error:0.192861\n",
            "Multiple eval metrics have been passed: 'validation_1-error' will be used for early stopping.\n",
            "\n",
            "Will train until validation_1-error hasn't improved in 3 rounds.\n",
            "[1]\tvalidation_0-error:0.191138\tvalidation_1-error:0.190234\n",
            "[2]\tvalidation_0-error:0.19337\tvalidation_1-error:0.192537\n",
            "[3]\tvalidation_0-error:0.191074\tvalidation_1-error:0.190167\n",
            "[4]\tvalidation_0-error:0.191527\tvalidation_1-error:0.190558\n",
            "[5]\tvalidation_0-error:0.189975\tvalidation_1-error:0.189098\n",
            "[6]\tvalidation_0-error:0.190856\tvalidation_1-error:0.189932\n",
            "[7]\tvalidation_0-error:0.187924\tvalidation_1-error:0.187054\n",
            "[8]\tvalidation_0-error:0.186011\tvalidation_1-error:0.185082\n",
            "[9]\tvalidation_0-error:0.185002\tvalidation_1-error:0.184131\n",
            "[10]\tvalidation_0-error:0.18318\tvalidation_1-error:0.18224\n",
            "[11]\tvalidation_0-error:0.181416\tvalidation_1-error:0.180506\n",
            "[12]\tvalidation_0-error:0.180654\tvalidation_1-error:0.179646\n",
            "[13]\tvalidation_0-error:0.173039\tvalidation_1-error:0.172349\n",
            "[14]\tvalidation_0-error:0.170385\tvalidation_1-error:0.169678\n",
            "[15]\tvalidation_0-error:0.166337\tvalidation_1-error:0.165704\n",
            "[16]\tvalidation_0-error:0.163845\tvalidation_1-error:0.163211\n",
            "[17]\tvalidation_0-error:0.159885\tvalidation_1-error:0.159285\n",
            "[18]\tvalidation_0-error:0.158552\tvalidation_1-error:0.157848\n",
            "[19]\tvalidation_0-error:0.15851\tvalidation_1-error:0.157897\n"
          ]
        },
        {
          "output_type": "execute_result",
          "data": {
            "text/plain": [
              "XGBClassifier(n_estimators=20)"
            ]
          },
          "metadata": {},
          "execution_count": 29
        }
      ]
    },
    {
      "cell_type": "code",
      "source": [
        "from sklearn.metrics import confusion_matrix"
      ],
      "metadata": {
        "id": "60xE8TvCa4OB"
      },
      "execution_count": 30,
      "outputs": []
    },
    {
      "cell_type": "code",
      "source": [
        "predicts = my_model.predict(X_valid1)"
      ],
      "metadata": {
        "id": "G_dXGZsb9cdS"
      },
      "execution_count": 32,
      "outputs": []
    },
    {
      "cell_type": "code",
      "source": [
        "predicts"
      ],
      "metadata": {
        "colab": {
          "base_uri": "https://localhost:8080/"
        },
        "id": "zNTbD7ed9ytc",
        "outputId": "7e11c857-ec27-40f4-af9f-4e983cc4cad0"
      },
      "execution_count": 33,
      "outputs": [
        {
          "output_type": "execute_result",
          "data": {
            "text/plain": [
              "array([1, 0, 1, ..., 1, 0, 1])"
            ]
          },
          "metadata": {},
          "execution_count": 33
        }
      ]
    },
    {
      "cell_type": "code",
      "source": [
        "matrix = confusion_matrix(y_valid1, predicts)"
      ],
      "metadata": {
        "id": "u1RJ3ajY9g9u"
      },
      "execution_count": 35,
      "outputs": []
    },
    {
      "cell_type": "code",
      "source": [
        "matrix"
      ],
      "metadata": {
        "colab": {
          "base_uri": "https://localhost:8080/"
        },
        "id": "_tQ504fqA9LA",
        "outputId": "18435c08-5ef9-46ed-8a98-e1078ce20664"
      },
      "execution_count": 36,
      "outputs": [
        {
          "output_type": "execute_result",
          "data": {
            "text/plain": [
              "array([[637295, 155896],\n",
              "       [ 60174, 509402]])"
            ]
          },
          "metadata": {},
          "execution_count": 36
        }
      ]
    },
    {
      "cell_type": "code",
      "source": [
        "matrix/len(X_valid1)"
      ],
      "metadata": {
        "colab": {
          "base_uri": "https://localhost:8080/"
        },
        "id": "6R5NefJPBCih",
        "outputId": "fad1796e-9e02-4484-9497-caf794f0fcbd"
      },
      "execution_count": 38,
      "outputs": [
        {
          "output_type": "execute_result",
          "data": {
            "text/plain": [
              "array([[0.46764781, 0.11439667],\n",
              "       [0.04415575, 0.37379978]])"
            ]
          },
          "metadata": {},
          "execution_count": 38
        }
      ]
    },
    {
      "cell_type": "code",
      "source": [
        "old_matrix = np.array([[18189, 2148], [1926, 18173]])"
      ],
      "metadata": {
        "id": "QGZz-m3qBeXg"
      },
      "execution_count": 39,
      "outputs": []
    },
    {
      "cell_type": "code",
      "source": [
        "old_matrix/40436"
      ],
      "metadata": {
        "colab": {
          "base_uri": "https://localhost:8080/"
        },
        "id": "kRdfbwRoBvXo",
        "outputId": "dc1c95f2-30e8-4e4a-c164-beb48551329c"
      },
      "execution_count": 43,
      "outputs": [
        {
          "output_type": "execute_result",
          "data": {
            "text/plain": [
              "array([[0.44982194, 0.05312098],\n",
              "       [0.04763082, 0.44942625]])"
            ]
          },
          "metadata": {},
          "execution_count": 43
        }
      ]
    },
    {
      "cell_type": "markdown",
      "source": [
        "interestingly enough, XGBoost performs slightly better on true positives, worse on true negatives. Wonder if fiddling with meta parameters can boost this a in any way."
      ],
      "metadata": {
        "id": "JK3hYiDlKfJ-"
      }
    },
    {
      "cell_type": "code",
      "source": [
        "my_model2 = XGBClassifier(n_estimators=20, )"
      ],
      "metadata": {
        "id": "_MYjDBpAJ1Xr"
      },
      "execution_count": 44,
      "outputs": []
    },
    {
      "cell_type": "code",
      "source": [
        "my_model2.fit(X_train, y_train,\n",
        "             eval_set=[(X_valid1, y_valid1), (X_valid2, y_valid2)],\n",
        "             early_stopping_rounds=3,\n",
        ")"
      ],
      "metadata": {
        "id": "ShVHibPPJ5NE"
      },
      "execution_count": null,
      "outputs": []
    }
  ]
}